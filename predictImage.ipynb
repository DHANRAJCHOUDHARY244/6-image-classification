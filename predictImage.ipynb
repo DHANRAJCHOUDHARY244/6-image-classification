{
 "cells": [
  {
   "cell_type": "code",
   "execution_count": 1,
   "id": "e4a18571",
   "metadata": {},
   "outputs": [],
   "source": [
    "import tensorflow as tf\n"
   ]
  },
  {
   "cell_type": "markdown",
   "id": "5d34e195",
   "metadata": {},
   "source": [
    "## I have Trainned model for Image classification for classes('buildings', 'forest', 'glacier', 'mountain', 'sea', 'street')"
   ]
  },
  {
   "cell_type": "code",
   "execution_count": 2,
   "id": "ef00be8b",
   "metadata": {},
   "outputs": [
    {
     "name": "stderr",
     "output_type": "stream",
     "text": [
      "C:\\Users\\HP5CD\\AppData\\Local\\Packages\\PythonSoftwareFoundation.Python.3.10_qbz5n2kfra8p0\\LocalCache\\local-packages\\Python310\\site-packages\\keras\\src\\layers\\convolutional\\base_conv.py:107: UserWarning: Do not pass an `input_shape`/`input_dim` argument to a layer. When using Sequential models, prefer using an `Input(shape)` object as the first layer in the model instead.\n",
      "  super().__init__(activity_regularizer=activity_regularizer, **kwargs)\n",
      "C:\\Users\\HP5CD\\AppData\\Local\\Packages\\PythonSoftwareFoundation.Python.3.10_qbz5n2kfra8p0\\LocalCache\\local-packages\\Python310\\site-packages\\keras\\src\\optimizers\\base_optimizer.py:33: UserWarning: Argument `decay` is no longer supported and will be ignored.\n",
      "  warnings.warn(\n",
      "WARNING:absl:Compiled the loaded model, but the compiled metrics have yet to be built. `model.compile_metrics` will be empty until you train or evaluate the model.\n",
      "WARNING:absl:Error in loading the saved optimizer state. As a result, your model is starting with a freshly initialized optimizer.\n"
     ]
    }
   ],
   "source": [
    "load_image_model = tf.keras.models.load_model(\"6_class_image.h5\")"
   ]
  },
  {
   "cell_type": "code",
   "execution_count": 3,
   "id": "dcb02ee5",
   "metadata": {},
   "outputs": [],
   "source": [
    "def load_and_prep_image(filename,img_shape=224):\n",
    "    \n",
    "    img = tf.io.read_file(filename)\n",
    "    \n",
    "    img = tf.image.decode_image(img)\n",
    "    img = tf.image.resize(img,size = [img_shape,img_shape])\n",
    "   \n",
    "    \n",
    "    \n",
    "    img = img/255.\n",
    "    return img"
   ]
  },
  {
   "cell_type": "code",
   "execution_count": 4,
   "id": "22e04cdd",
   "metadata": {},
   "outputs": [],
   "source": [
    "class_names = ['buildings', 'forest', 'glacier', 'mountain', 'sea', 'street']"
   ]
  },
  {
   "cell_type": "code",
   "execution_count": 5,
   "id": "fb756eb9",
   "metadata": {},
   "outputs": [],
   "source": [
    "def pred_and_plot(model,filename,class_names=class_names):\n",
    "    img = load_and_prep_image(filename)\n",
    "    pred = model.predict(tf.expand_dims(img,axis=0)) \n",
    "    if len(pred[0])>1:\n",
    "        pred_class = class_names[tf.argmax(pred[0])]\n",
    "    else:\n",
    "        pred_class = class_names[int(tf.round(pred))]\n",
    "    return pred_class"
   ]
  },
  {
   "cell_type": "code",
   "execution_count": 6,
   "id": "77bc457e",
   "metadata": {},
   "outputs": [
    {
     "name": "stdout",
     "output_type": "stream",
     "text": [
      "\u001b[1m1/1\u001b[0m \u001b[32m━━━━━━━━━━━━━━━━━━━━\u001b[0m\u001b[37m\u001b[0m \u001b[1m0s\u001b[0m 96ms/step\n"
     ]
    },
    {
     "data": {
      "text/plain": [
       "'buildings'"
      ]
     },
     "execution_count": 6,
     "metadata": {},
     "output_type": "execute_result"
    }
   ],
   "source": [
    "pred_and_plot(model=load_image_model,filename=\"5.jpg\",class_names=class_names)"
   ]
  },
  {
   "cell_type": "code",
   "execution_count": 1,
   "id": "62852126",
   "metadata": {},
   "outputs": [
    {
     "name": "stdout",
     "output_type": "stream",
     "text": [
      " * Serving Flask app '__main__'\n",
      " * Debug mode: on\n"
     ]
    },
    {
     "name": "stderr",
     "output_type": "stream",
     "text": [
      "WARNING: This is a development server. Do not use it in a production deployment. Use a production WSGI server instead.\n",
      " * Running on http://127.0.0.1:5000\n",
      "Press CTRL+C to quit\n",
      " * Restarting with stat\n"
     ]
    },
    {
     "ename": "SystemExit",
     "evalue": "1",
     "output_type": "error",
     "traceback": [
      "An exception has occurred, use %tb to see the full traceback.\n",
      "\u001b[1;31mSystemExit\u001b[0m\u001b[1;31m:\u001b[0m 1\n"
     ]
    },
    {
     "name": "stderr",
     "output_type": "stream",
     "text": [
      "C:\\Users\\HP5CD\\AppData\\Local\\Packages\\PythonSoftwareFoundation.Python.3.10_qbz5n2kfra8p0\\LocalCache\\local-packages\\Python310\\site-packages\\IPython\\core\\interactiveshell.py:3556: UserWarning: To exit: use 'exit', 'quit', or Ctrl-D.\n",
      "  warn(\"To exit: use 'exit', 'quit', or Ctrl-D.\", stacklevel=1)\n"
     ]
    }
   ],
   "source": [
    "from flask import Flask, request, jsonify\n",
    "import os\n",
    "\n",
    "app = Flask(__name__)\n",
    "\n",
    "@app.route('/')\n",
    "def index():\n",
    "    # Use send_file to serve the index.html file\n",
    "    return app.send_static_file('index.html')\n",
    "\n",
    "@app.route('/upload', methods=['POST'])\n",
    "def upload_image():\n",
    "    # Check if the 'image' key exists in the request.files dictionary\n",
    "    if 'image' not in request.files:\n",
    "        return jsonify({'error': 'No image provided'}), 400\n",
    "\n",
    "    image = request.files['image']\n",
    "\n",
    "    # Check if the file is empty\n",
    "    if image.filename == '':\n",
    "        return jsonify({'error': 'No selected file'}), 400\n",
    "\n",
    "    # Save the uploaded file\n",
    "    image.save(os.path.join('uploads', image.filename))\n",
    "\n",
    "    return jsonify({'message': 'Image uploaded successfully.'})\n",
    "\n",
    "if __name__ == '__main__':\n",
    "    # Create an 'uploads' directory if it doesn't exist\n",
    "    if not os.path.exists('uploads'):\n",
    "        os.makedirs('uploads')\n",
    "\n",
    "    # Use a random secret key for session management\n",
    "    app.secret_key = os.urandom(24)\n",
    "\n",
    "    # Use debug=False in production\n",
    "    app.run(debug=True)\n"
   ]
  },
  {
   "cell_type": "code",
   "execution_count": null,
   "id": "06b6f2e5",
   "metadata": {},
   "outputs": [
    {
     "name": "stdout",
     "output_type": "stream",
     "text": [
      "^C\n",
      "Note: you may need to restart the kernel to use updated packages.\n"
     ]
    },
    {
     "name": "stdout",
     "output_type": "stream",
     "text": [
      "Collecting Flask\n",
      "  Downloading flask-3.0.3-py3-none-any.whl.metadata (3.2 kB)\n",
      "Requirement already satisfied: Werkzeug>=3.0.0 in c:\\users\\hp5cd\\appdata\\local\\packages\\pythonsoftwarefoundation.python.3.10_qbz5n2kfra8p0\\localcache\\local-packages\\python310\\site-packages (from Flask) (3.0.1)\n",
      "Collecting Jinja2>=3.1.2 (from Flask)\n",
      "  Downloading Jinja2-3.1.3-py3-none-any.whl.metadata (3.3 kB)\n",
      "Collecting itsdangerous>=2.1.2 (from Flask)\n",
      "  Downloading itsdangerous-2.2.0-py3-none-any.whl.metadata (1.9 kB)\n",
      "Collecting click>=8.1.3 (from Flask)\n",
      "  Downloading click-8.1.7-py3-none-any.whl.metadata (3.0 kB)\n",
      "Collecting blinker>=1.6.2 (from Flask)\n",
      "  Downloading blinker-1.8.1-py3-none-any.whl.metadata (1.6 kB)\n",
      "Requirement already satisfied: colorama in c:\\users\\hp5cd\\appdata\\local\\packages\\pythonsoftwarefoundation.python.3.10_qbz5n2kfra8p0\\localcache\\local-packages\\python310\\site-packages (from click>=8.1.3->Flask) (0.4.6)\n",
      "Requirement already satisfied: MarkupSafe>=2.0 in c:\\users\\hp5cd\\appdata\\local\\packages\\pythonsoftwarefoundation.python.3.10_qbz5n2kfra8p0\\localcache\\local-packages\\python310\\site-packages (from Jinja2>=3.1.2->Flask) (2.1.3)\n",
      "Downloading flask-3.0.3-py3-none-any.whl (101 kB)\n",
      "   ---------------------------------------- 0.0/101.7 kB ? eta -:--:--\n",
      "   ---------------------------------------- 0.0/101.7 kB ? eta -:--:--\n",
      "   ---------------------------------------- 0.0/101.7 kB ? eta -:--:--\n",
      "   ---------------------------------------- 0.0/101.7 kB ? eta -:--:--\n",
      "   ---------------------------------------- 0.0/101.7 kB ? eta -:--:--\n",
      "   ---------------------------------------- 0.0/101.7 kB ? eta -:--:--\n",
      "   ---------------------------------------- 0.0/101.7 kB ? eta -:--:--\n",
      "   ---------------------------------------- 0.0/101.7 kB ? eta -:--:--\n",
      "   ---------------------------------------- 0.0/101.7 kB ? eta -:--:--\n",
      "   ---------------------------------------- 0.0/101.7 kB ? eta -:--:--\n",
      "   ---------------------------------------- 0.0/101.7 kB ? eta -:--:--\n",
      "   ---------------------------------------- 0.0/101.7 kB ? eta -:--:--\n",
      "   ---------------------------------------- 0.0/101.7 kB ? eta -:--:--\n",
      "   ---------------------------------------- 0.0/101.7 kB ? eta -:--:--\n",
      "   ---------------------------------------- 0.0/101.7 kB ? eta -:--:--\n",
      "   ---------------------------------------- 0.0/101.7 kB ? eta -:--:--\n",
      "   ---------------------------------------- 0.0/101.7 kB ? eta -:--:--\n",
      "   ---------------- ----------------------- 41.0/101.7 kB ? eta -:--:--\n",
      "   ---------------- ----------------------- 41.0/101.7 kB ? eta -:--:--\n",
      "   ---------------- ----------------------- 41.0/101.7 kB ? eta -:--:--\n",
      "   ---------------- ----------------------- 41.0/101.7 kB ? eta -:--:--\n",
      "   ---------------- ----------------------- 41.0/101.7 kB ? eta -:--:--\n",
      "   ---------------- ----------------------- 41.0/101.7 kB ? eta -:--:--\n",
      "   ---------------- ----------------------- 41.0/101.7 kB ? eta -:--:--\n",
      "   ---------------- ----------------------- 41.0/101.7 kB ? eta -:--:--\n",
      "   ----------------------- --------------- 61.4/101.7 kB 126.1 kB/s eta 0:00:01\n",
      "   -------------------------------------- 101.7/101.7 kB 209.4 kB/s eta 0:00:00\n",
      "Downloading blinker-1.8.1-py3-none-any.whl (9.5 kB)\n",
      "Downloading click-8.1.7-py3-none-any.whl (97 kB)\n",
      "   ---------------------------------------- 0.0/97.9 kB ? eta -:--:--\n",
      "   ---------------------------------------- 0.0/97.9 kB ? eta -:--:--\n",
      "   ---------------------------------------- 0.0/97.9 kB ? eta -:--:--\n",
      "   ---------------------------------------- 0.0/97.9 kB ? eta -:--:--\n",
      "   ---------------------------------------- 0.0/97.9 kB ? eta -:--:--\n",
      "   ---------------------------------------- 0.0/97.9 kB ? eta -:--:--\n",
      "   ---------------------------------------- 0.0/97.9 kB ? eta -:--:--\n",
      "   ---------------------------------------- 0.0/97.9 kB ? eta -:--:--\n",
      "   ---------------------------------------- 0.0/97.9 kB ? eta -:--:--\n",
      "   ---------------------------------------- 0.0/97.9 kB ? eta -:--:--\n",
      "   ---------------------------------------- 0.0/97.9 kB ? eta -:--:--\n",
      "   ---------------------------------------- 0.0/97.9 kB ? eta -:--:--\n",
      "   ---------------------------------------- 0.0/97.9 kB ? eta -:--:--\n",
      "   ---------------------------------------- 0.0/97.9 kB ? eta -:--:--\n",
      "   ---------------- ----------------------- 41.0/97.9 kB ? eta -:--:--\n",
      "   ---------------- ----------------------- 41.0/97.9 kB ? eta -:--:--\n",
      "   ---------------- ----------------------- 41.0/97.9 kB ? eta -:--:--\n",
      "   ---------------- ----------------------- 41.0/97.9 kB ? eta -:--:--\n",
      "   ------------------------- -------------- 61.4/97.9 kB 251.0 kB/s eta 0:00:01\n",
      "   ------------------------- -------------- 61.4/97.9 kB 251.0 kB/s eta 0:00:01\n",
      "   ---------------------------------------- 97.9/97.9 kB 295.3 kB/s eta 0:00:00\n",
      "Downloading itsdangerous-2.2.0-py3-none-any.whl (16 kB)\n",
      "Downloading Jinja2-3.1.3-py3-none-any.whl (133 kB)\n",
      "   ---------------------------------------- 0.0/133.2 kB ? eta -:--:--\n",
      "   ---------------------------------------- 0.0/133.2 kB ? eta -:--:--\n",
      "   --- ------------------------------------ 10.2/133.2 kB ? eta -:--:--\n",
      "   --- ------------------------------------ 10.2/133.2 kB ? eta -:--:--\n",
      "   --- ------------------------------------ 10.2/133.2 kB ? eta -:--:--\n",
      "   -------- ------------------------------ 30.7/133.2 kB 131.3 kB/s eta 0:00:01\n",
      "   -------- ------------------------------ 30.7/133.2 kB 131.3 kB/s eta 0:00:01\n",
      "   ----------- --------------------------- 41.0/133.2 kB 115.5 kB/s eta 0:00:01\n",
      "   ----------- --------------------------- 41.0/133.2 kB 115.5 kB/s eta 0:00:01\n",
      "   ----------- --------------------------- 41.0/133.2 kB 115.5 kB/s eta 0:00:01\n",
      "   ----------- --------------------------- 41.0/133.2 kB 115.5 kB/s eta 0:00:01\n",
      "   ----------- --------------------------- 41.0/133.2 kB 115.5 kB/s eta 0:00:01\n",
      "   ----------------- --------------------- 61.4/133.2 kB 105.8 kB/s eta 0:00:01\n",
      "   ----------------------- --------------- 81.9/133.2 kB 138.9 kB/s eta 0:00:01\n",
      "   ----------------------- --------------- 81.9/133.2 kB 138.9 kB/s eta 0:00:01\n",
      "   -------------------------- ------------ 92.2/133.2 kB 134.5 kB/s eta 0:00:01\n",
      "   -------------------------- ------------ 92.2/133.2 kB 134.5 kB/s eta 0:00:01\n",
      "   -------------------------- ------------ 92.2/133.2 kB 134.5 kB/s eta 0:00:01\n",
      "   -------------------------------- ----- 112.6/133.2 kB 131.1 kB/s eta 0:00:01\n",
      "   -------------------------------------  133.1/133.2 kB 148.4 kB/s eta 0:00:01\n",
      "   -------------------------------------- 133.2/133.2 kB 143.2 kB/s eta 0:00:00\n",
      "Installing collected packages: Jinja2, itsdangerous, click, blinker, Flask\n",
      "Successfully installed Flask-3.0.3 Jinja2-3.1.3 blinker-1.8.1 click-8.1.7 itsdangerous-2.2.0\n"
     ]
    }
   ],
   "source": []
  }
 ],
 "metadata": {
  "kernelspec": {
   "display_name": "Python 3 (ipykernel)",
   "language": "python",
   "name": "python3"
  },
  "language_info": {
   "codemirror_mode": {
    "name": "ipython",
    "version": 3
   },
   "file_extension": ".py",
   "mimetype": "text/x-python",
   "name": "python",
   "nbconvert_exporter": "python",
   "pygments_lexer": "ipython3",
   "version": "3.10.11"
  }
 },
 "nbformat": 4,
 "nbformat_minor": 5
}
